{
 "cells": [
  {
   "cell_type": "code",
   "execution_count": 3,
   "metadata": {
    "collapsed": true
   },
   "outputs": [],
   "source": [
    "%matplotlib inline\n",
    "import numpy as np\n",
    "import matplotlib.pyplot as plt\n",
    "from scipy.integrate import odeint\n",
    "from scipy.optimize import minimize, minimize_scalar"
   ]
  },
  {
   "cell_type": "markdown",
   "metadata": {},
   "source": [
    "### Using optimization to solve Homework 6, Problem 4"
   ]
  },
  {
   "cell_type": "code",
   "execution_count": 19,
   "metadata": {
    "collapsed": false
   },
   "outputs": [
    {
     "name": "stdout",
     "output_type": "stream",
     "text": [
      "The optimal temperature is: 441.32\n"
     ]
    }
   ],
   "source": [
    "def myfun(x,t,T):\n",
    "    R = 8.314\n",
    "    A,B = x\n",
    "    r1 = 25200*np.exp(-41868/(R*T))*A\n",
    "    r2 = 1.8e7*np.exp(-83737/(R*T))*B\n",
    "    return [-r1+r2,-r2+r1]\n",
    "\n",
    "def phi(T):\n",
    "    x0 = [1,0]\n",
    "    t = [0, 24]\n",
    "    x = odeint(myfun,x0,t,args = (T[0],)) # T is passed in as vector\n",
    "    return -x[-1,1] # negative because we can to maximize\n",
    "\n",
    "sol = minimize(phi,400)\n",
    "print(\"The optimal temperature is: %.2f\" % sol.x)"
   ]
  },
  {
   "cell_type": "markdown",
   "metadata": {},
   "source": [
    "### Extend problem to also determine optimal time"
   ]
  },
  {
   "cell_type": "code",
   "execution_count": 20,
   "metadata": {
    "collapsed": false
   },
   "outputs": [
    {
     "name": "stdout",
     "output_type": "stream",
     "text": [
      "The optimal temperature is: 345.53\n",
      "The optimal time is: 899.82\n"
     ]
    }
   ],
   "source": [
    "def myfun(x,t,T):\n",
    "    R = 8.314\n",
    "    A,B = x\n",
    "    r1 = 25200*np.exp(-41868/(R*T))*A\n",
    "    r2 = 1.8e7*np.exp(-83737/(R*T))*B\n",
    "    return [-r1+r2,-r2+r1]\n",
    "\n",
    "def phi(theta):\n",
    "    tmax, T = theta\n",
    "    x0 = [1,0]\n",
    "    t = [0, tmax]\n",
    "    x = odeint(myfun,x0,t,args = (T,))\n",
    "    return -x[-1,1] # negative because we can to maximize\n",
    "\n",
    "sol = minimize(phi,[10,400])\n",
    "\n",
    "print('The optimal temperature is: %.2f' % sol.x[1])\n",
    "print('The optimal time is: %.2f' % sol.x[0])"
   ]
  },
  {
   "cell_type": "markdown",
   "metadata": {},
   "source": [
    "### Add some bounds"
   ]
  },
  {
   "cell_type": "code",
   "execution_count": 21,
   "metadata": {
    "collapsed": false
   },
   "outputs": [
    {
     "name": "stdout",
     "output_type": "stream",
     "text": [
      "The optimal temperature is: 425.10\n",
      "The optimal time is: 40.00\n"
     ]
    }
   ],
   "source": [
    "def myfun(x,t,T):\n",
    "    R = 8.314\n",
    "    A,B = x\n",
    "    r1 = 25200*np.exp(-41868/(R*T))*A\n",
    "    r2 = 1.8e7*np.exp(-83737/(R*T))*B\n",
    "    return [-r1+r2,-r2+r1]\n",
    "\n",
    "def phi(theta):\n",
    "    tmax, T = theta\n",
    "    x0 = [1,0]\n",
    "    t = [0, tmax]\n",
    "    x = odeint(myfun,x0,t,args = (T,))\n",
    "    return -x[-1,1] # negative because we can to maximize\n",
    "\n",
    "sol = minimize(phi,[10,400],bounds=((1,40),(100, 1000)))\n",
    "\n",
    "print('The optimal temperature is: %.2f' % sol.x[1])\n",
    "print('The optimal time is: %.2f' % sol.x[0])"
   ]
  },
  {
   "cell_type": "code",
   "execution_count": null,
   "metadata": {
    "collapsed": true
   },
   "outputs": [],
   "source": []
  }
 ],
 "metadata": {
  "kernelspec": {
   "display_name": "Python 3",
   "language": "python",
   "name": "python3"
  },
  "language_info": {
   "codemirror_mode": {
    "name": "ipython",
    "version": 3
   },
   "file_extension": ".py",
   "mimetype": "text/x-python",
   "name": "python",
   "nbconvert_exporter": "python",
   "pygments_lexer": "ipython3",
   "version": "3.5.5"
  }
 },
 "nbformat": 4,
 "nbformat_minor": 1
}
