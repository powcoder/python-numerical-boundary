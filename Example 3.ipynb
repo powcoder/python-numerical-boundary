{
 "cells": [
  {
   "cell_type": "markdown",
   "metadata": {},
   "source": [
    "# More optimization examples"
   ]
  },
  {
   "cell_type": "code",
   "execution_count": 2,
   "metadata": {
    "collapsed": false
   },
   "outputs": [
    {
     "ename": "SyntaxError",
     "evalue": "from __future__ imports must occur at the beginning of the file (cell_name, line 5)",
     "output_type": "error",
     "traceback": [
      "\u001b[0;36m  File \u001b[0;32m\"cell_name\"\u001b[0;36m, line \u001b[0;32m5\u001b[0m\n\u001b[0;31mSyntaxError\u001b[0m\u001b[0;31m:\u001b[0m from __future__ imports must occur at the beginning of the file\n"
     ]
    }
   ],
   "source": [
    "%matplotlib inline\n",
    "from __future__ import division\n",
    "import numpy as np\n",
    "import matplotlib.pyplot as plt\n",
    "from scipy.optimize import minimize, least_squares"
   ]
  },
  {
   "cell_type": "markdown",
   "metadata": {
    "collapsed": true
   },
   "source": [
    "### Minimize the cost of a building\n",
    "\n",
    "cost (area): roof 6, floor 12, sides 4\n",
    "\n",
    "volume = 1500\n",
    "\n",
    "height <= 2*width"
   ]
  },
  {
   "cell_type": "code",
   "execution_count": null,
   "metadata": {
    "collapsed": true
   },
   "outputs": [],
   "source": [
    "def cost(x):\n",
    "    w,l,h = x\n",
    "    return 6*w*l + 12*w*l + 4*h*(2*w + 2*l)\n",
    "\n",
    "def volume(x):\n",
    "    w,l,h = x\n",
    "    return w*l*h - 1500\n",
    "\n",
    "def height(x):\n",
    "    w,l,h = x\n",
    "    return 2*w-h\n",
    "\n",
    "cons = ({'type': 'eq', 'fun': volume},\n",
    "       {'type': 'ineq', 'fun': height})\n",
    "\n",
    "bnds = [[0, 1500],[0, 1500],[0, 1500]]\n",
    "\n",
    "sol = minimize(cost,[1,1,1],constraints=cons)\n",
    "\n",
    "w,l,h = sol.x\n",
    "\n",
    "print \"Width = %.2f\" % w\n",
    "print \"Length = %.2f\" % l\n",
    "print \"Height = %.2f\"% h\n",
    "print \"Volume = %.2f\" % (l*w*h)"
   ]
  },
  {
   "cell_type": "markdown",
   "metadata": {},
   "source": [
    "### Finding the closest position on circle to point"
   ]
  },
  {
   "cell_type": "code",
   "execution_count": null,
   "metadata": {
    "collapsed": true
   },
   "outputs": [],
   "source": [
    "def distance(z,P):\n",
    "    x,y = z\n",
    "    return (x-P[0])**2 + (y-P[1])**2\n",
    "\n",
    "def circle(z):\n",
    "    x,y = z\n",
    "    return x**2+y**2-1\n",
    "\n",
    "cons = ({'type': 'eq', 'fun': circle})\n",
    "\n",
    "# location of point\n",
    "P = [3,2]\n",
    "\n",
    "sol = minimize(distance,[2,2],constraints=cons,args = (P,))\n",
    "\n",
    "\n",
    "theta = np.linspace(0,2*np.pi,1000)\n",
    "xc = np.cos(theta)\n",
    "yc = np.sin(theta)\n",
    "\n",
    "plt.plot(xc,yc,lw=3,color='r')\n",
    "plt.plot(P[0],P[1],'o',ms=10,color='b')\n",
    "plt.plot(sol.x[0],sol.x[1],'o',ms=10,color='g')\n",
    "plt.plot([P[0],sol.x[0]],[P[1],sol.x[1]],lw=3,color='g')\n",
    "plt.xticks(fontsize=16)\n",
    "plt.yticks(fontsize=16)\n",
    "plt.axis('equal')\n",
    "plt.show()"
   ]
  },
  {
   "cell_type": "markdown",
   "metadata": {},
   "source": [
    "### Least squares\n",
    "\n",
    "Fit a line y = ax + b to data"
   ]
  },
  {
   "cell_type": "code",
   "execution_count": 3,
   "metadata": {
    "collapsed": false
   },
   "outputs": [
    {
     "ename": "NameError",
     "evalue": "name 'np' is not defined",
     "output_type": "error",
     "traceback": [
      "\u001b[0;31m---------------------------------------------------------------------------\u001b[0m",
      "\u001b[0;31mNameError\u001b[0m                                 Traceback (most recent call last)",
      "\u001b[0;32m<ipython-input-3-5fbefc106e5a>\u001b[0m in \u001b[0;36m<module>\u001b[0;34m\u001b[0m\n\u001b[1;32m      1\u001b[0m \u001b[0;31m# generate some fictious data\u001b[0m\u001b[0;34m\u001b[0m\u001b[0;34m\u001b[0m\u001b[0;34m\u001b[0m\u001b[0m\n\u001b[0;32m----> 2\u001b[0;31m \u001b[0mx\u001b[0m \u001b[0;34m=\u001b[0m \u001b[0mnp\u001b[0m\u001b[0;34m.\u001b[0m\u001b[0mlinspace\u001b[0m\u001b[0;34m(\u001b[0m\u001b[0;36m0\u001b[0m\u001b[0;34m,\u001b[0m\u001b[0;36m10\u001b[0m\u001b[0;34m,\u001b[0m\u001b[0;36m10\u001b[0m\u001b[0;34m)\u001b[0m\u001b[0;34m\u001b[0m\u001b[0;34m\u001b[0m\u001b[0m\n\u001b[0m\u001b[1;32m      3\u001b[0m \u001b[0my\u001b[0m \u001b[0;34m=\u001b[0m \u001b[0;36m3\u001b[0m\u001b[0;34m*\u001b[0m\u001b[0mx\u001b[0m \u001b[0;34m+\u001b[0m \u001b[0;36m2\u001b[0m \u001b[0;34m+\u001b[0m \u001b[0;36m5\u001b[0m\u001b[0;34m*\u001b[0m\u001b[0mnp\u001b[0m\u001b[0;34m.\u001b[0m\u001b[0mrandom\u001b[0m\u001b[0;34m.\u001b[0m\u001b[0mrandn\u001b[0m\u001b[0;34m(\u001b[0m\u001b[0;36m10\u001b[0m\u001b[0;34m)\u001b[0m\u001b[0;34m\u001b[0m\u001b[0;34m\u001b[0m\u001b[0m\n\u001b[1;32m      4\u001b[0m \u001b[0;34m\u001b[0m\u001b[0m\n\u001b[1;32m      5\u001b[0m \u001b[0;32mdef\u001b[0m \u001b[0mmyfun\u001b[0m\u001b[0;34m(\u001b[0m\u001b[0mparams\u001b[0m\u001b[0;34m,\u001b[0m\u001b[0mx\u001b[0m\u001b[0;34m,\u001b[0m\u001b[0my\u001b[0m\u001b[0;34m)\u001b[0m\u001b[0;34m:\u001b[0m\u001b[0;34m\u001b[0m\u001b[0;34m\u001b[0m\u001b[0m\n",
      "\u001b[0;31mNameError\u001b[0m: name 'np' is not defined"
     ]
    }
   ],
   "source": [
    "# generate some fictious data\n",
    "x = np.linspace(0,10,10)\n",
    "y = 3*x + 2 + 5*np.random.randn(10)\n",
    "\n",
    "def myfun(params,x,y):\n",
    "    a,b = params\n",
    "    return sum((y - (a*x+b))**2)\n",
    "\n",
    "sol = minimize(myfun,[1,1],args = (x,y))\n",
    "a,b = sol.x\n",
    "\n",
    "xhat = np.linspace(0,10,1000)\n",
    "yhat = a*xhat + b\n",
    "\n",
    "plt.plot(x,y,'o',ms=10,color='r')\n",
    "plt.plot(xhat,yhat,lw=3,color='b')\n",
    "plt.xticks(fontsize=16)\n",
    "plt.yticks(fontsize=16)\n",
    "plt.show()"
   ]
  },
  {
   "cell_type": "markdown",
   "metadata": {},
   "source": [
    "### Least squares -- builtin function"
   ]
  },
  {
   "cell_type": "code",
   "execution_count": null,
   "metadata": {
    "collapsed": true
   },
   "outputs": [],
   "source": [
    "# generate some fictious data\n",
    "x = np.linspace(0,10,10)\n",
    "y = 3*x + 2 + 5*np.random.randn(10)\n",
    "\n",
    "def myfun(params,x,y):\n",
    "    a,b = params\n",
    "    return y - (a*x + b)\n",
    "\n",
    "sol = least_squares(myfun,[1,1],args = (x,y))\n",
    "a,b = sol.x\n",
    "\n",
    "xhat = np.linspace(0,10,1000)\n",
    "yhat = a*xhat + b\n",
    "\n",
    "plt.plot(x,y,'o',ms=10,color='r')\n",
    "plt.plot(xhat,yhat,lw=3,color='b')\n",
    "plt.xticks(fontsize=16)\n",
    "plt.yticks(fontsize=16)\n",
    "plt.show()"
   ]
  },
  {
   "cell_type": "markdown",
   "metadata": {},
   "source": [
    "### Fit a more complicated function to data\n",
    "\n",
    "$$ y = \\frac{ax}{b+x} $$"
   ]
  },
  {
   "cell_type": "code",
   "execution_count": null,
   "metadata": {
    "collapsed": true
   },
   "outputs": [],
   "source": [
    "# column 1 is treatment (x), colume 2-4 are responses (y)\n",
    "data = np.array([[0,       0.001,   0.001,   0.003],\n",
    "[0.04,    0.076,   0.065,   0.055],\n",
    "[0.08,    0.126,   0.113,   0.101],\n",
    "[0.12,    0.144,   0.139,   0.132],\n",
    "[0.16,    0.158,   0.149,   0.140],\n",
    "[0.2,     0.158,   0.154,   0.150]])\n",
    "\n",
    "# seperate out data and recast as vector\n",
    "x = np.concatenate([data[:,0],data[:,0],data[:,0]])\n",
    "y = np.concatenate([data[:,1],data[:,2],data[:,3]])\n",
    "\n",
    "def myfun(theta,x,y):\n",
    "    a,b = theta\n",
    "    return y - a*x/(b+x)\n",
    "\n",
    "bnds = ([0,0],[1,1]) # note the different format here (not necessary)\n",
    "sol = least_squares(myfun,[0.2,0.1],args = (x,y),bounds = bnds)\n",
    "a,b = sol.x\n",
    "\n",
    "xhat = np.linspace(0,0.2,1000)\n",
    "yhat = a*xhat/(b+xhat)\n",
    "\n",
    "plt.plot(x,y,'o',ms=10,color='r')\n",
    "plt.plot(xhat,yhat,lw=3,color='b')\n",
    "plt.xticks(fontsize=16)\n",
    "plt.yticks(fontsize=16)\n",
    "plt.ylim((0,0.2))\n",
    "plt.show()\n",
    "\n"
   ]
  },
  {
   "cell_type": "code",
   "execution_count": null,
   "metadata": {
    "collapsed": true
   },
   "outputs": [],
   "source": []
  }
 ],
 "metadata": {
  "anaconda-cloud": {},
  "kernelspec": {
   "display_name": "Python 3",
   "language": "python",
   "name": "python3"
  },
  "language_info": {
   "codemirror_mode": {
    "name": "ipython",
    "version": 3
   },
   "file_extension": ".py",
   "mimetype": "text/x-python",
   "name": "python",
   "nbconvert_exporter": "python",
   "pygments_lexer": "ipython3",
   "version": "3.5.5"
  }
 },
 "nbformat": 4,
 "nbformat_minor": 1
}
