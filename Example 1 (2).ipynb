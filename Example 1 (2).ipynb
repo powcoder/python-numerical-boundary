{
 "cells": [
  {
   "cell_type": "code",
   "execution_count": 1,
   "metadata": {
    "collapsed": true
   },
   "outputs": [],
   "source": [
    "import numpy as np"
   ]
  },
  {
   "cell_type": "markdown",
   "metadata": {},
   "source": [
    "### Playing with strings"
   ]
  },
  {
   "cell_type": "code",
   "execution_count": 2,
   "metadata": {
    "collapsed": false
   },
   "outputs": [
    {
     "name": "stdout",
     "output_type": "stream",
     "text": [
      "THISISMYSECRETMESSAGE\n"
     ]
    }
   ],
   "source": [
    "message = 'This is my secret message'\n",
    "\n",
    "message = message.upper()\n",
    "message = message.replace(' ','')\n",
    "\n",
    "print(message)"
   ]
  },
  {
   "cell_type": "markdown",
   "metadata": {},
   "source": [
    "### Simple Cipher code"
   ]
  },
  {
   "cell_type": "code",
   "execution_count": 3,
   "metadata": {
    "collapsed": false
   },
   "outputs": [
    {
     "name": "stdout",
     "output_type": "stream",
     "text": [
      "CRLLFAR\n",
      "MESSAGE\n"
     ]
    }
   ],
   "source": [
    "message = \"MESSAGE\"\n",
    "\n",
    "alphabet = 'abcdefghijklmnopqrstuvwxyz'.upper()\n",
    "\n",
    "idx = range(26)\n",
    "idx_permute = np.random.permutation(idx)\n",
    "\n",
    "cipher = {}\n",
    "decipher = {}\n",
    "for i in idx:\n",
    "    cipher[alphabet[i]] = alphabet[idx_permute[i]]\n",
    "    decipher[alphabet[idx_permute[i]]] = alphabet[i]\n",
    "\n",
    "secret_message = \"\"\n",
    "for letter in message:\n",
    "    secret_message = secret_message + cipher[letter]\n",
    "\n",
    "print(secret_message)\n",
    "\n",
    "original_message = \"\"\n",
    "for letter in secret_message:\n",
    "    original_message = original_message + decipher[letter]\n",
    "\n",
    "print(original_message)\n"
   ]
  },
  {
   "cell_type": "markdown",
   "metadata": {},
   "source": [
    "### Making a cipher class"
   ]
  },
  {
   "cell_type": "code",
   "execution_count": 4,
   "metadata": {
    "collapsed": false
   },
   "outputs": [
    {
     "name": "stdout",
     "output_type": "stream",
     "text": [
      "QbqUPqUPWVPUkimkFPWkUUyokHHH\n",
      "\n",
      "This is my secret message!!!\n"
     ]
    }
   ],
   "source": [
    "class Cipher(object):\n",
    "    \n",
    "    alphabet = 'abcdefghijklmnopqrstuvwxyz'.upper() + ' '\n",
    "    alphabet = alphabet + 'abcdefghijklmnopqrstuvwxyz'\n",
    "    alphabet = alphabet + '.,?!'\n",
    "    \n",
    "    def __init__(self):\n",
    "        idx = range(len(Cipher.alphabet))\n",
    "        idx_permute = np.random.permutation(idx)\n",
    "        self.cipher = {}\n",
    "        self.decipher = {}\n",
    "        for i in idx:\n",
    "            self.cipher[Cipher.alphabet[i]] = Cipher.alphabet[idx_permute[i]]\n",
    "            self.decipher[Cipher.alphabet[idx_permute[i]]] = Cipher.alphabet[i]\n",
    "\n",
    "    def encode(self,message):\n",
    "        #message = message.upper()\n",
    "        secret_message = \"\"\n",
    "        for letter in message:\n",
    "            secret_message = secret_message + self.cipher[letter]\n",
    "        return secret_message\n",
    "    \n",
    "    def decode(self,message):\n",
    "        #message = message.upper()\n",
    "        original_message = \"\"\n",
    "        for letter in message:\n",
    "            original_message = original_message + self.decipher[letter]\n",
    "        return original_message\n",
    "    \n",
    "encrypter = Cipher()\n",
    "\n",
    "message = 'This is my secret message!!!'\n",
    "\n",
    "encrypted_message = encrypter.encode(message)\n",
    "\n",
    "print(encrypted_message)\n",
    "print(\"\")\n",
    "print(encrypter.decode(encrypted_message))\n",
    "\n"
   ]
  },
  {
   "cell_type": "code",
   "execution_count": null,
   "metadata": {
    "collapsed": true
   },
   "outputs": [],
   "source": []
  }
 ],
 "metadata": {
  "kernelspec": {
   "display_name": "Python 3",
   "language": "python",
   "name": "python3"
  },
  "language_info": {
   "codemirror_mode": {
    "name": "ipython",
    "version": 3
   },
   "file_extension": ".py",
   "mimetype": "text/x-python",
   "name": "python",
   "nbconvert_exporter": "python",
   "pygments_lexer": "ipython3",
   "version": "3.5.5"
  }
 },
 "nbformat": 4,
 "nbformat_minor": 2
}
